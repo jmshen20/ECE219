{
 "cells": [
  {
   "cell_type": "markdown",
   "metadata": {},
   "source": [
    "# Project 1: Classification Analysis on Textual Data"
   ]
  },
  {
   "cell_type": "markdown",
   "metadata": {},
   "source": [
    "### Classification Analysis on Textual Data \n",
    "#### Spring 2021"
   ]
  },
  {
   "cell_type": "markdown",
   "metadata": {},
   "source": [
    "### Word Embedding"
   ]
  },
  {
   "cell_type": "code",
   "execution_count": 9,
   "metadata": {},
   "outputs": [],
   "source": [
    "import nltk\n",
    "import numpy as np\n",
    "import pandas as pd\n",
    "#from scipy import spatial\n",
    "#import matplotlib.pyplot as plt\n",
    "#import seaborn as sns\n",
    "#from sklearn.manifold import TSNE\n",
    "#from sklearn.preprocessing import StandardScaler\n",
    "#from nltk.corpus import stopwords\n",
    "#import re\n",
    "#import string"
   ]
  },
  {
   "cell_type": "code",
   "execution_count": 7,
   "metadata": {},
   "outputs": [],
   "source": [
    "#Create a key-value dictionary where key is the word and value is the word embedding\n",
    "embeddings_dict = {}\n",
    "dimension_of_glove = 300\n",
    "with open(\"glove.6B.300d.txt\", 'r', encoding=\"utf8\") as f:\n",
    "    for line in f:\n",
    "        values = line.split()\n",
    "        word = values[0]\n",
    "        vector = np.asarray(values[1:], \"float32\")\n",
    "        embeddings_dict[word] = vector"
   ]
  },
  {
   "cell_type": "markdown",
   "metadata": {},
   "source": [
    "##### QUESTION 8: Read the paper about GLoVE embeddings - found here and answer the following subquestions: answered in report\n"
   ]
  },
  {
   "cell_type": "code",
   "execution_count": null,
   "metadata": {},
   "outputs": [],
   "source": [
    "print(embeddings_dict['queen']-embeddings_dict['king']-embeddings_dict['wife']+embeddings_dict['husband'])"
   ]
  },
  {
   "cell_type": "code",
   "execution_count": null,
   "metadata": {},
   "outputs": [],
   "source": [
    "print(embeddings_dict['queen']-embeddings_dict['king'])"
   ]
  },
  {
   "cell_type": "code",
   "execution_count": null,
   "metadata": {},
   "outputs": [],
   "source": [
    "print(embeddings_dict['wife']-embeddings_dict['husband'])"
   ]
  },
  {
   "cell_type": "code",
   "execution_count": 8,
   "metadata": {},
   "outputs": [
    {
     "name": "stdout",
     "output_type": "stream",
     "text": [
      "[-2.7628e-01  1.3999e-01  9.8519e-02 -6.4019e-01  3.1988e-02  1.0066e-01\n",
      " -1.8673e-01 -3.7129e-01  5.9740e-01 -2.0405e+00  2.2368e-01 -2.6314e-02\n",
      "  7.2408e-01 -4.3829e-01  4.8886e-01 -3.5486e-03 -1.0006e-01 -3.0587e-01\n",
      " -1.5621e-01 -6.8136e-02  2.1104e-01  2.9287e-01 -8.8861e-02 -2.0462e-01\n",
      " -5.7602e-01  3.4526e-01  4.1390e-01  1.7917e-01  2.5143e-01 -2.2678e-01\n",
      " -1.0103e-01  1.4576e-01  2.0127e-01  3.1810e-01 -7.8907e-01 -2.2194e-01\n",
      " -2.4833e-01 -1.5103e-02 -2.0050e-01 -2.6441e-02  1.8551e-01  3.3782e-01\n",
      " -3.3543e-01  8.6117e-01 -4.7083e-02 -1.7009e-01  3.0438e-01  9.4119e-02\n",
      "  3.2435e-01 -8.1171e-01  8.8966e-01 -3.9149e-01  1.6828e-01  1.4316e-01\n",
      "  3.6339e-03 -6.4557e-02  4.5777e-02 -3.2248e-01  4.8943e-02  1.6817e-01\n",
      "  6.8344e-02  5.4227e-01  1.2493e-01  6.9742e-01 -3.7194e-02  3.3080e-01\n",
      " -4.2194e-01  3.3970e-01  2.7646e-01 -1.6003e-02 -2.1827e-01  4.4535e-01\n",
      "  3.5379e-01 -2.2089e-02  2.1375e-01  4.3267e-01 -3.2897e-01  9.6165e-02\n",
      "  3.1265e-01 -3.0528e-01  2.6126e-01 -6.5364e-01 -7.8014e-01 -2.3154e-01\n",
      "  1.2113e-01  3.4896e-01 -5.5444e-01  4.6619e-01 -1.6520e-01  1.1611e-01\n",
      " -7.6676e-01  6.9502e-01 -1.5698e-01 -1.2490e-01  5.6505e-01  6.4499e-01\n",
      " -5.7403e-01 -3.3549e-02  3.2898e-01 -1.4025e+00 -3.1143e-01  6.4549e-01\n",
      " -6.1534e-02 -6.9295e-01  6.0894e-04 -5.6544e-01  1.9181e-01 -1.9208e-01\n",
      " -6.2673e-01 -9.7473e-03 -5.5040e-01 -5.6128e-01 -1.9603e-01  2.9254e-01\n",
      "  9.8576e-02 -5.9395e-02  3.3616e-03  1.9515e-01 -6.0703e-01  3.4262e-01\n",
      "  9.5211e-02 -7.9411e-02  1.4305e-01 -5.6569e-01 -6.5887e-02  1.5167e-01\n",
      " -1.3505e-01  1.9571e-01  2.2812e-01  3.5346e-02 -2.2509e-01  1.8910e-01\n",
      " -3.7348e-01  1.2505e-01  4.6249e-01 -3.2219e-01  9.0643e-01  1.1595e-01\n",
      "  1.1628e-01  2.2961e-01  2.4010e-01 -6.1609e-02  3.9325e-01 -6.5066e-02\n",
      "  4.2257e-01  5.6880e-01  4.9804e-01 -6.1308e-01  4.1468e-01 -1.3448e-01\n",
      "  6.0430e-01 -6.5462e-02 -8.5376e-02  1.9115e-01  3.9925e-01  3.7495e-01\n",
      " -1.8492e-01  6.1751e-02 -3.8747e-01 -3.0335e-01 -3.8211e-01  2.8221e-01\n",
      " -1.0286e-01 -5.8660e-01  8.2922e-01  2.5131e-01  2.4772e-01  8.7482e-01\n",
      " -3.1359e-01  8.1621e-01 -9.0081e-01 -7.7933e-01 -1.0090e+00  3.6472e-01\n",
      " -1.1562e-01 -2.4841e-01  9.4527e-02 -4.2266e-01  6.0392e-02 -1.5365e-01\n",
      " -6.9604e-02  5.1292e-03  3.9572e-01 -1.5692e-01  3.5708e-01 -3.5165e-01\n",
      "  3.5296e-01 -5.2220e-01  5.1400e-01 -1.7764e-01 -1.0272e-01 -3.9640e-01\n",
      "  3.0418e-01  7.3659e-02 -1.1685e-01  1.4299e-01 -3.6810e-01  2.7642e-01\n",
      " -4.6683e-01 -3.2633e-01  5.1107e-01  2.3945e-02  1.1723e-01  2.1761e-01\n",
      " -1.7389e-01 -6.1193e-01 -5.9449e-01  4.7749e-01 -5.9008e-01 -3.6092e-01\n",
      " -9.9574e-02 -4.3098e-02 -1.5106e-01 -1.4336e-01 -3.1135e-02  1.7887e-01\n",
      " -6.4221e-01  1.7242e-01  3.3916e-01  8.7181e-01 -7.7230e-01  5.3195e-01\n",
      " -5.2763e-01  1.7510e-01  3.1043e-01 -1.5177e-01 -2.2706e-01  1.0803e-01\n",
      "  4.4919e-01  7.0016e-02  2.0851e-01  2.1517e-01 -6.1712e-01 -9.9970e-02\n",
      "  5.5020e-03  7.6786e-02  2.8046e-01  4.2331e-01 -5.8925e-01  7.0554e-02\n",
      "  3.9923e-01  9.0201e-02  1.7139e-01 -1.7282e-01 -5.3675e-01 -4.6439e-01\n",
      " -5.7850e-01 -6.8311e-01  5.9383e-02  1.2427e-01 -1.4558e-01  5.7687e-01\n",
      " -5.7499e-01 -5.1645e-02  3.8410e-01  1.3047e-01  3.3786e-01  3.3204e-01\n",
      "  4.0119e-01  2.6389e-01 -3.6953e-01 -2.9797e-01 -6.6816e-01 -1.1883e-01\n",
      "  5.0133e-01  2.0603e-01 -3.2558e-01 -1.2242e-01  5.0666e-01  1.6353e-01\n",
      " -1.0672e-01  2.2364e-01  2.3915e-01 -5.5509e-01 -4.8432e-01 -1.2165e-02\n",
      " -1.7992e+00  3.2310e-01 -2.6309e-01 -3.2538e-01 -5.8270e-01  1.5099e-01\n",
      "  3.3838e-01  1.2007e-01  4.1395e-01 -1.5553e-01 -1.9301e-01  5.8860e-02\n",
      " -5.2420e-01 -3.7170e-01  5.6205e-01 -6.5801e-01 -4.9796e-01  2.4347e-01\n",
      "  1.2873e-01  3.3665e-01 -7.2609e-02 -1.5686e-01 -1.4187e-01 -2.6488e-01]\n"
     ]
    }
   ],
   "source": [
    "print(embeddings_dict['computer'])"
   ]
  },
  {
   "cell_type": "markdown",
   "metadata": {},
   "source": [
    "## Feature Engineering: Stemming & Lemmatization"
   ]
  },
  {
   "cell_type": "markdown",
   "metadata": {},
   "source": [
    "##### QUESTION 9: For the binary classification task distinguishing the “Computer Technology” class and “Recreational Activity” class:\n",
    "1. Describe a feature engineering process that uses GLoVE word embeddings to represent each document. \n",
    "2. Select a classifier model, train and evaluate it with your GLoVE-based feature.\n",
    "\n",
    "\n",
    "\n"
   ]
  },
  {
   "cell_type": "markdown",
   "metadata": {},
   "source": [
    "##### QUESTION 10: Plot the relationship between the dimension of the pre-trained GLoVE embedding and the resulting accuracy of the model in the classification task. Describe the observed trend. Is this trend expected? Why or why not?"
   ]
  },
  {
   "cell_type": "markdown",
   "metadata": {},
   "source": [
    "##### QUESTION 11: Compare and contrast the two visualizations. Are there clusters formed in either or both of the plots?"
   ]
  },
  {
   "cell_type": "markdown",
   "metadata": {},
   "source": [
    "### Multiclass Classification"
   ]
  },
  {
   "cell_type": "markdown",
   "metadata": {},
   "source": [
    "##### QUESTION 12: In this part, we aim to learn classifiers on the documents belonging to the classes: comp.sys.ibm.pc.hardware, comp.sys.mac.hardware, misc.forsale, soc.religion.christian\n",
    "\n",
    "Perform Naïve Bayes classification and multiclass SVM classification (with both One VS One and\n",
    "One VS the rest methods described above) and report the confusion matrix and calculate the\n",
    "accuracy, recall, precision and F-1 score of your classifiers.\n"
   ]
  },
  {
   "cell_type": "code",
   "execution_count": null,
   "metadata": {},
   "outputs": [],
   "source": []
  }
 ],
 "metadata": {
  "kernelspec": {
   "display_name": "Python 3",
   "language": "python",
   "name": "python3"
  },
  "language_info": {
   "codemirror_mode": {
    "name": "ipython",
    "version": 3
   },
   "file_extension": ".py",
   "mimetype": "text/x-python",
   "name": "python",
   "nbconvert_exporter": "python",
   "pygments_lexer": "ipython3",
   "version": "3.8.3"
  }
 },
 "nbformat": 4,
 "nbformat_minor": 4
}
