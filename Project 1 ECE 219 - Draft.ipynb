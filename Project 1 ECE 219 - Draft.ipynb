{
 "cells": [
  {
   "cell_type": "markdown",
   "metadata": {},
   "source": [
    "# Project 1: Classification Analysis on Textual Data"
   ]
  },
  {
   "cell_type": "markdown",
   "metadata": {},
   "source": [
    "### Classification Analysis on Textual Data \n",
    "#### Spring 2021"
   ]
  },
  {
   "cell_type": "code",
   "execution_count": 18,
   "metadata": {},
   "outputs": [],
   "source": [
    "# Import libraries\n",
    "%matplotlib inline\n",
    "import pandas as pd\n",
    "import numpy as np\n",
    "import matplotlib.pyplot as plt\n",
    "import seaborn as sns\n",
    "import lifelines\n",
    "import warnings\n",
    "warnings.filterwarnings('ignore')"
   ]
  },
  {
   "cell_type": "markdown",
   "metadata": {},
   "source": [
    "### Part 1: TF-IDF"
   ]
  },
  {
   "cell_type": "markdown",
   "metadata": {},
   "source": [
    "Load \"20 Newsgroups\" dataset. It is a collection of approximately 20,000 newsgroup documents, partitioned (nearly) evenly across 20 different newsgroups, each corresponding to a different topic. It is is splitted in two subsets: one for training (or development) and the other one for testing (or for performance evaluation) and is a popular data set for experiments in text applications of machine learning techniques, such as text classification and text clustering."
   ]
  },
  {
   "cell_type": "code",
   "execution_count": 60,
   "metadata": {},
   "outputs": [],
   "source": [
    "from sklearn.datasets import fetch_20newsgroups\n",
    "# Refer to the offcial document of scikit-learn for detailed usages:\n",
    "# http://scikit-learn.org/stable/modules/generated/sklearn.datasets.fetch_20newsgroups.html\n",
    "categories = ['comp.graphics', 'comp.sys.mac.hardware']\n",
    "# The \n",
    "twenty_train = fetch_20newsgroups(subset='train', # choose which subset of the dataset to use; can be 'train', 'test', 'all'\n",
    "                                  categories=None, # choose the categories to load; if is `None`, load all categories\n",
    "                                  shuffle=True,\n",
    "                                  random_state=42, # set the seed of random number generator when shuffling to make the outcome repeatable across different runs\n",
    "#                                   remove=['headers'],\n",
    "                                 )\n",
    "twenty_test = fetch_20newsgroups(subset='test', categories=categories, shuffle=True, random_state=42)"
   ]
  },
  {
   "cell_type": "code",
   "execution_count": 61,
   "metadata": {},
   "outputs": [
    {
     "name": "stdout",
     "output_type": "stream",
     "text": [
      "<class 'list'>\n"
     ]
    }
   ],
   "source": [
    "print(type(twenty_train.data))"
   ]
  },
  {
   "cell_type": "code",
   "execution_count": 64,
   "metadata": {},
   "outputs": [
    {
     "data": {
      "text/plain": [
       "dict_keys(['data', 'filenames', 'target_names', 'target', 'DESCR'])"
      ]
     },
     "execution_count": 64,
     "metadata": {},
     "output_type": "execute_result"
    }
   ],
   "source": [
    "twenty_train.keys()"
   ]
  },
  {
   "cell_type": "code",
   "execution_count": 63,
   "metadata": {},
   "outputs": [
    {
     "data": {
      "text/plain": [
       "array([ 0,  1,  2,  3,  4,  5,  6,  7,  8,  9, 10, 11, 12, 13, 14, 15, 16,\n",
       "       17, 18, 19])"
      ]
     },
     "execution_count": 63,
     "metadata": {},
     "output_type": "execute_result"
    }
   ],
   "source": [
    "np.unique(twenty_train.target)"
   ]
  },
  {
   "cell_type": "code",
   "execution_count": 67,
   "metadata": {},
   "outputs": [
    {
     "data": {
      "text/plain": [
       "['alt.atheism',\n",
       " 'comp.graphics',\n",
       " 'comp.os.ms-windows.misc',\n",
       " 'comp.sys.ibm.pc.hardware',\n",
       " 'comp.sys.mac.hardware',\n",
       " 'comp.windows.x',\n",
       " 'misc.forsale',\n",
       " 'rec.autos',\n",
       " 'rec.motorcycles',\n",
       " 'rec.sport.baseball',\n",
       " 'rec.sport.hockey',\n",
       " 'sci.crypt',\n",
       " 'sci.electronics',\n",
       " 'sci.med',\n",
       " 'sci.space',\n",
       " 'soc.religion.christian',\n",
       " 'talk.politics.guns',\n",
       " 'talk.politics.mideast',\n",
       " 'talk.politics.misc',\n",
       " 'talk.religion.misc']"
      ]
     },
     "execution_count": 67,
     "metadata": {},
     "output_type": "execute_result"
    }
   ],
   "source": [
    "twenty_train.target_names"
   ]
  },
  {
   "cell_type": "code",
   "execution_count": 76,
   "metadata": {},
   "outputs": [
    {
     "data": {
      "text/html": [
       "<div>\n",
       "<style scoped>\n",
       "    .dataframe tbody tr th:only-of-type {\n",
       "        vertical-align: middle;\n",
       "    }\n",
       "\n",
       "    .dataframe tbody tr th {\n",
       "        vertical-align: top;\n",
       "    }\n",
       "\n",
       "    .dataframe thead th {\n",
       "        text-align: right;\n",
       "    }\n",
       "</style>\n",
       "<table border=\"1\" class=\"dataframe\">\n",
       "  <thead>\n",
       "    <tr style=\"text-align: right;\">\n",
       "      <th></th>\n",
       "      <th>data</th>\n",
       "      <th>target</th>\n",
       "      <th>target_names</th>\n",
       "    </tr>\n",
       "  </thead>\n",
       "  <tbody>\n",
       "    <tr>\n",
       "      <th>0</th>\n",
       "      <td>From: lerxst@wam.umd.edu (where's my thing)\\nS...</td>\n",
       "      <td>7</td>\n",
       "      <td>rec.autos</td>\n",
       "    </tr>\n",
       "    <tr>\n",
       "      <th>1</th>\n",
       "      <td>From: guykuo@carson.u.washington.edu (Guy Kuo)...</td>\n",
       "      <td>4</td>\n",
       "      <td>comp.sys.mac.hardware</td>\n",
       "    </tr>\n",
       "    <tr>\n",
       "      <th>2</th>\n",
       "      <td>From: twillis@ec.ecn.purdue.edu (Thomas E Will...</td>\n",
       "      <td>4</td>\n",
       "      <td>comp.sys.mac.hardware</td>\n",
       "    </tr>\n",
       "    <tr>\n",
       "      <th>3</th>\n",
       "      <td>From: jgreen@amber (Joe Green)\\nSubject: Re: W...</td>\n",
       "      <td>1</td>\n",
       "      <td>comp.graphics</td>\n",
       "    </tr>\n",
       "    <tr>\n",
       "      <th>4</th>\n",
       "      <td>From: jcm@head-cfa.harvard.edu (Jonathan McDow...</td>\n",
       "      <td>14</td>\n",
       "      <td>sci.space</td>\n",
       "    </tr>\n",
       "    <tr>\n",
       "      <th>5</th>\n",
       "      <td>From: dfo@vttoulu.tko.vtt.fi (Foxvog Douglas)\\...</td>\n",
       "      <td>16</td>\n",
       "      <td>talk.politics.guns</td>\n",
       "    </tr>\n",
       "    <tr>\n",
       "      <th>6</th>\n",
       "      <td>From: bmdelane@quads.uchicago.edu (brian manni...</td>\n",
       "      <td>13</td>\n",
       "      <td>sci.med</td>\n",
       "    </tr>\n",
       "    <tr>\n",
       "      <th>7</th>\n",
       "      <td>From: bgrubb@dante.nmsu.edu (GRUBB)\\nSubject: ...</td>\n",
       "      <td>3</td>\n",
       "      <td>comp.sys.ibm.pc.hardware</td>\n",
       "    </tr>\n",
       "    <tr>\n",
       "      <th>8</th>\n",
       "      <td>From: holmes7000@iscsvax.uni.edu\\nSubject: WIn...</td>\n",
       "      <td>2</td>\n",
       "      <td>comp.os.ms-windows.misc</td>\n",
       "    </tr>\n",
       "    <tr>\n",
       "      <th>9</th>\n",
       "      <td>From: kerr@ux1.cso.uiuc.edu (Stan Kerr)\\nSubje...</td>\n",
       "      <td>4</td>\n",
       "      <td>comp.sys.mac.hardware</td>\n",
       "    </tr>\n",
       "  </tbody>\n",
       "</table>\n",
       "</div>"
      ],
      "text/plain": [
       "                                                data target  \\\n",
       "0  From: lerxst@wam.umd.edu (where's my thing)\\nS...      7   \n",
       "1  From: guykuo@carson.u.washington.edu (Guy Kuo)...      4   \n",
       "2  From: twillis@ec.ecn.purdue.edu (Thomas E Will...      4   \n",
       "3  From: jgreen@amber (Joe Green)\\nSubject: Re: W...      1   \n",
       "4  From: jcm@head-cfa.harvard.edu (Jonathan McDow...     14   \n",
       "5  From: dfo@vttoulu.tko.vtt.fi (Foxvog Douglas)\\...     16   \n",
       "6  From: bmdelane@quads.uchicago.edu (brian manni...     13   \n",
       "7  From: bgrubb@dante.nmsu.edu (GRUBB)\\nSubject: ...      3   \n",
       "8  From: holmes7000@iscsvax.uni.edu\\nSubject: WIn...      2   \n",
       "9  From: kerr@ux1.cso.uiuc.edu (Stan Kerr)\\nSubje...      4   \n",
       "\n",
       "               target_names  \n",
       "0                 rec.autos  \n",
       "1     comp.sys.mac.hardware  \n",
       "2     comp.sys.mac.hardware  \n",
       "3             comp.graphics  \n",
       "4                 sci.space  \n",
       "5        talk.politics.guns  \n",
       "6                   sci.med  \n",
       "7  comp.sys.ibm.pc.hardware  \n",
       "8   comp.os.ms-windows.misc  \n",
       "9     comp.sys.mac.hardware  "
      ]
     },
     "execution_count": 76,
     "metadata": {},
     "output_type": "execute_result"
    }
   ],
   "source": [
    "df = pd.DataFrame(data= np.c_[twenty_train['data'], twenty_train['target'], list(map(lambda x: twenty_train['target_names'][x], twenty_train['target']))],\n",
    "                     columns= ['data', 'target', 'target_names'])\n",
    "df.head(10)"
   ]
  },
  {
   "cell_type": "code",
   "execution_count": null,
   "metadata": {},
   "outputs": [],
   "source": [
    "plt.figure(figsize=(120, 30))\n",
    "ax = sns.histplot(data = df['target_names'])\n",
    "ax.set(xlabel='Categories', ylabel='Number of Training Documents')\n",
    "ax.axes.set_title('Histogram of Training Document Categories',fontsize=50)\n",
    "plt.show()"
   ]
  },
  {
   "cell_type": "code",
   "execution_count": 68,
   "metadata": {},
   "outputs": [
    {
     "data": {
      "text/html": [
       "<div>\n",
       "<style scoped>\n",
       "    .dataframe tbody tr th:only-of-type {\n",
       "        vertical-align: middle;\n",
       "    }\n",
       "\n",
       "    .dataframe tbody tr th {\n",
       "        vertical-align: top;\n",
       "    }\n",
       "\n",
       "    .dataframe thead th {\n",
       "        text-align: right;\n",
       "    }\n",
       "</style>\n",
       "<table border=\"1\" class=\"dataframe\">\n",
       "  <thead>\n",
       "    <tr style=\"text-align: right;\">\n",
       "      <th></th>\n",
       "      <th>Data</th>\n",
       "      <th>target</th>\n",
       "    </tr>\n",
       "  </thead>\n",
       "  <tbody>\n",
       "    <tr>\n",
       "      <th>0</th>\n",
       "      <td>From: lerxst@wam.umd.edu (where's my thing)\\nS...</td>\n",
       "      <td>7</td>\n",
       "    </tr>\n",
       "    <tr>\n",
       "      <th>1</th>\n",
       "      <td>From: guykuo@carson.u.washington.edu (Guy Kuo)...</td>\n",
       "      <td>4</td>\n",
       "    </tr>\n",
       "    <tr>\n",
       "      <th>2</th>\n",
       "      <td>From: twillis@ec.ecn.purdue.edu (Thomas E Will...</td>\n",
       "      <td>4</td>\n",
       "    </tr>\n",
       "    <tr>\n",
       "      <th>3</th>\n",
       "      <td>From: jgreen@amber (Joe Green)\\nSubject: Re: W...</td>\n",
       "      <td>1</td>\n",
       "    </tr>\n",
       "    <tr>\n",
       "      <th>4</th>\n",
       "      <td>From: jcm@head-cfa.harvard.edu (Jonathan McDow...</td>\n",
       "      <td>14</td>\n",
       "    </tr>\n",
       "    <tr>\n",
       "      <th>5</th>\n",
       "      <td>From: dfo@vttoulu.tko.vtt.fi (Foxvog Douglas)\\...</td>\n",
       "      <td>16</td>\n",
       "    </tr>\n",
       "    <tr>\n",
       "      <th>6</th>\n",
       "      <td>From: bmdelane@quads.uchicago.edu (brian manni...</td>\n",
       "      <td>13</td>\n",
       "    </tr>\n",
       "    <tr>\n",
       "      <th>7</th>\n",
       "      <td>From: bgrubb@dante.nmsu.edu (GRUBB)\\nSubject: ...</td>\n",
       "      <td>3</td>\n",
       "    </tr>\n",
       "    <tr>\n",
       "      <th>8</th>\n",
       "      <td>From: holmes7000@iscsvax.uni.edu\\nSubject: WIn...</td>\n",
       "      <td>2</td>\n",
       "    </tr>\n",
       "    <tr>\n",
       "      <th>9</th>\n",
       "      <td>From: kerr@ux1.cso.uiuc.edu (Stan Kerr)\\nSubje...</td>\n",
       "      <td>4</td>\n",
       "    </tr>\n",
       "  </tbody>\n",
       "</table>\n",
       "</div>"
      ],
      "text/plain": [
       "                                                Data  target\n",
       "0  From: lerxst@wam.umd.edu (where's my thing)\\nS...       7\n",
       "1  From: guykuo@carson.u.washington.edu (Guy Kuo)...       4\n",
       "2  From: twillis@ec.ecn.purdue.edu (Thomas E Will...       4\n",
       "3  From: jgreen@amber (Joe Green)\\nSubject: Re: W...       1\n",
       "4  From: jcm@head-cfa.harvard.edu (Jonathan McDow...      14\n",
       "5  From: dfo@vttoulu.tko.vtt.fi (Foxvog Douglas)\\...      16\n",
       "6  From: bmdelane@quads.uchicago.edu (brian manni...      13\n",
       "7  From: bgrubb@dante.nmsu.edu (GRUBB)\\nSubject: ...       3\n",
       "8  From: holmes7000@iscsvax.uni.edu\\nSubject: WIn...       2\n",
       "9  From: kerr@ux1.cso.uiuc.edu (Stan Kerr)\\nSubje...       4"
      ]
     },
     "execution_count": 68,
     "metadata": {},
     "output_type": "execute_result"
    }
   ],
   "source": [
    "data = pd.Series(twenty_train.data) \n",
    "data = pd.DataFrame(data) \n",
    "data.columns = ['Data'] + data.columns.tolist()[1:] \n",
    "data['target'] = pd.Series(twenty_train.target)\n",
    "data.head(10)"
   ]
  },
  {
   "cell_type": "code",
   "execution_count": 69,
   "metadata": {},
   "outputs": [
    {
     "data": {
      "text/plain": [
       "11314"
      ]
     },
     "execution_count": 69,
     "metadata": {},
     "output_type": "execute_result"
    }
   ],
   "source": [
    "len(twenty_train.data)"
   ]
  },
  {
   "cell_type": "code",
   "execution_count": 70,
   "metadata": {},
   "outputs": [
    {
     "data": {
      "text/plain": [
       "774"
      ]
     },
     "execution_count": 70,
     "metadata": {},
     "output_type": "execute_result"
    }
   ],
   "source": [
    "len(twenty_test.data)"
   ]
  },
  {
   "cell_type": "code",
   "execution_count": 92,
   "metadata": {},
   "outputs": [],
   "source": [
    "data['target'] = data['target'].astype('int')"
   ]
  },
  {
   "cell_type": "code",
   "execution_count": null,
   "metadata": {},
   "outputs": [],
   "source": [
    "# plot histogram of # of trainings documents for each of the 20 categorues to check if they're evenly distributed\n",
    "plt.figure(figsize=(12, 8))\n",
    "order=['0','1','2','3','4','5','6','7','8','9','10','11','12','13','14','15','16','17','18','19']\n",
    "ax = sns.histplot(data = data['target'])\n",
    "ax.set(xlabel='Categories', ylabel='Number of Training Documents')\n",
    "ax.axes.set_title('Histogram of Training Document Categories',fontsize=16)\n",
    "plt.show()\n",
    "#ax.figure.savefig(\"categoryhist.png\")"
   ]
  },
  {
   "cell_type": "code",
   "execution_count": 127,
   "metadata": {},
   "outputs": [
    {
     "data": {
      "text/plain": [
       "Text(0.5, 0, 'Categories')"
      ]
     },
     "execution_count": 127,
     "metadata": {},
     "output_type": "execute_result"
    },
    {
     "data": {
      "image/png": "[encoded data removed]",
      "text/plain": [
       "<Figure size 864x576 with 1 Axes>"
      ]
     },
     "metadata": {
      "needs_background": "light"
     },
     "output_type": "display_data"
    }
   ],
   "source": [
    "count_Categories = data['target'].value_counts()\n",
    "\n",
    "plt.figure(figsize=(12,8))\n",
    "sns.barplot(x=count_Categories.index, y=count_Categories.values,palette=(\"Blues_d\"))\n",
    "plt.title('Histogram of Training Document Categories', fontsize=20)\n",
    "plt.ylabel('Number of Training Documents', fontsize=12)\n",
    "plt.xlabel('Categories', fontsize=12)\n",
    "#sns.set_context(\"poster\")"
   ]
  },
  {
   "cell_type": "markdown",
   "metadata": {},
   "source": [
    "#### The training documents are roughly evenly distributed as seen from the histogram above"
   ]
  },
  {
   "attachments": {
    "d30a05d3-b7b5-42d7-8182-6053f5d9d289.png": {
     "image/png": "[encoded data removed]"
    }
   },
   "cell_type": "markdown",
   "metadata": {},
   "source": [
    "![image.png](attachment:d30a05d3-b7b5-42d7-8182-6053f5d9d289.png)"
   ]
  },
  {
   "cell_type": "code",
   "execution_count": 76,
   "metadata": {},
   "outputs": [],
   "source": [
    "# setting sead\n",
    "import numpy as np\n",
    "np.random.seed(42)\n",
    "import random\n",
    "random.seed(42)\n",
    "\n",
    "\n",
    "from sklearn.datasets import fetch_20newsgroups\n",
    "# Refer to the offcial document of scikit-learn for detailed usages:\n",
    "# http://scikit-learn.org/stable/modules/generated/sklearn.datasets.fetch_20newsgroups.html\n",
    "categories = ['comp.graphics', 'comp.os.ms-windows.misc',\n",
    "'comp.sys.ibm.pc.hardware', 'comp.sys.mac.hardware',\n",
    "'rec.autos', 'rec.motorcycles',\n",
    "'rec.sport.baseball', 'rec.sport.hockey']\n",
    "\n",
    "train_dataset = fetch_20newsgroups(\n",
    "                                 subset='train', # choose which subset of the dataset to use; can be 'train', 'test', 'all'\n",
    "                                 categories=categories, # choose the categories to load; if is `None`, load all categories\n",
    "                                 shuffle=True,\n",
    "                                 random_state=None, # set the seed of random number generator when shuffling to make the outcome repeatable across different runs\n",
    "                                 )\n",
    "test_dataset = fetch_20newsgroups(subset='test', categories=categories, shuffle=True, random_state=None)"
   ]
  },
  {
   "cell_type": "code",
   "execution_count": 77,
   "metadata": {},
   "outputs": [],
   "source": [
    "from sklearn.feature_extraction.text import CountVectorizer\n",
    "from sklearn.feature_extraction import text\n",
    "stop_words = text.ENGLISH_STOP_WORDS"
   ]
  },
  {
   "cell_type": "code",
   "execution_count": 78,
   "metadata": {},
   "outputs": [
    {
     "data": {
      "text/plain": [
       "318"
      ]
     },
     "execution_count": 78,
     "metadata": {},
     "output_type": "execute_result"
    }
   ],
   "source": [
    "len(stop_words)"
   ]
  },
  {
   "cell_type": "code",
   "execution_count": null,
   "metadata": {},
   "outputs": [],
   "source": [
    "'''\n",
    "QUESTION 2: Use the following specs to extract features from the textual data:\n",
    "• Use the “english” stopwords of the CountVectorizer\n",
    "• Exclude terms that are numbers (e.g. “123”, “-45”, “6.7” etc.)\n",
    "• Perform lemmatization with nltk.wordnet.WordNetLemmatizer and pos tag\n",
    "• Use min df=3\n",
    "Report the shape of the TF-IDF matrices of the train and test subsets respectively.\n",
    "'''"
   ]
  },
  {
   "cell_type": "code",
   "execution_count": 79,
   "metadata": {},
   "outputs": [
    {
     "data": {
      "text/plain": [
       "(4732, 20297)"
      ]
     },
     "execution_count": 79,
     "metadata": {},
     "output_type": "execute_result"
    }
   ],
   "source": [
    "count_Vectorizer = CountVectorizer(min_df=3, stop_words=\"english\")\n",
    "doc_train_matrix = count_Vectorizer.fit_transform(train_dataset.data)\n",
    "doc_train_matrix.shape"
   ]
  },
  {
   "cell_type": "code",
   "execution_count": 80,
   "metadata": {},
   "outputs": [],
   "source": [
    "# Perform lemmatization with nltk.wordnet.WordNetLemmatizer and pos tag\n",
    "import nltk\n",
    "from nltk import pos_tag\n",
    "#nltk.download('wordnet')\n",
    "#nltk.download('punkt')\n",
    "#nltk.download('averaged_perceptron_tagger')\n",
    "wnl = nltk.wordnet.WordNetLemmatizer()\n",
    "\n",
    "\n",
    "def penn2morphy(penntag):\n",
    "    \"\"\" Converts Penn Treebank tags to WordNet. \"\"\"\n",
    "    morphy_tag = {'NN':'n', 'JJ':'a',\n",
    "                  'VB':'v', 'RB':'r'}\n",
    "    try:\n",
    "        return morphy_tag[penntag[:2]]\n",
    "    except:\n",
    "        return 'n'\n",
    "\n",
    "def lemmatize_sent(list_word):\n",
    "    # Text input is string, returns array of lowercased strings(words).\n",
    "    return [wnl.lemmatize(word.lower(), pos=penn2morphy(tag)) \n",
    "            for word, tag in pos_tag(list_word)]\n",
    "\n",
    "def stem_rmv_punc(doc):\n",
    "    return (word for word in lemmatize_sent(analyzer(doc)) if word not in stop_words and not word.isdigit())\n",
    "\n",
    "analyzer = CountVectorizer().build_analyzer()"
   ]
  },
  {
   "cell_type": "code",
   "execution_count": 81,
   "metadata": {},
   "outputs": [],
   "source": [
    "vectorizer = CountVectorizer(min_df=3,analyzer=stem_rmv_punc, stop_words='english')"
   ]
  },
  {
   "cell_type": "code",
   "execution_count": 8,
   "metadata": {},
   "outputs": [
    {
     "name": "stdout",
     "output_type": "stream",
     "text": [
      "(4732, 16319)\n",
      "(3150, 16319)\n"
     ]
    }
   ],
   "source": [
    "X = vectorizer.fit_transform(train_dataset.data)\n",
    "Y = vectorizer.transform(test_dataset.data)\n",
    "print(X.shape)\n",
    "print(Y.shape)"
   ]
  },
  {
   "cell_type": "code",
   "execution_count": 82,
   "metadata": {},
   "outputs": [
    {
     "name": "stdout",
     "output_type": "stream",
     "text": [
      "Shape of the TF-IDF train matrix is (4732, 16319)\n",
      "Shape of the TF-IDF test matrix is (3150, 16319)\n"
     ]
    }
   ],
   "source": [
    "from sklearn.feature_extraction.text import TfidfTransformer\n",
    "tfidf_transformer = TfidfTransformer()\n",
    "\n",
    "traindata_tfidf = tfidf_transformer.fit_transform(X)\n",
    "testdata_tfidf = tfidf_transformer.transform(Y)\n",
    "print('Shape of the TF-IDF train matrix is', X.shape)\n",
    "print('Shape of the TF-IDF test matrix is', Y.shape)"
   ]
  },
  {
   "cell_type": "code",
   "execution_count": 83,
   "metadata": {},
   "outputs": [
    {
     "name": "stdout",
     "output_type": "stream",
     "text": [
      "(4732, 16319)\n",
      "(3150, 16319)\n"
     ]
    }
   ],
   "source": [
    "#use toarray to convert sparse matrixes to ordinary matrices\n",
    "train_ordinary_matrix = X.toarray()\n",
    "test_ordinary_matrix = Y.toarray()\n",
    "print(train_ordinary_matrix.shape)\n",
    "print(test_ordinary_matrix.shape)"
   ]
  },
  {
   "cell_type": "markdown",
   "metadata": {},
   "source": [
    "### Question 3: Dimensionality Reduction"
   ]
  },
  {
   "cell_type": "code",
   "execution_count": 27,
   "metadata": {},
   "outputs": [
    {
     "data": {
      "text/plain": [
       "'\\nQuestion #3\\n\\nReduce the dimensionality of the data using the LSI/NMF\\n\\nApply LSI to the TF-IDF matrix corresponding to the 8 categories with k = 50; so each\\ndocument is mapped to a 50-dimensional vector.\\n\\nAlso reduce dimensionality through NMF (k = 50) and compare with LSI:\\n\\nWhich Frobenius norm is larger, the NMF magnitude or the LSI magnitude. Why is this the case?\\n'"
      ]
     },
     "execution_count": 27,
     "metadata": {},
     "output_type": "execute_result"
    }
   ],
   "source": [
    "'''\n",
    "Question #3\n",
    "\n",
    "Reduce the dimensionality of the data using the LSI/NMF\n",
    "\n",
    "Apply LSI to the TF-IDF matrix corresponding to the 8 categories with k = 50; so each\n",
    "document is mapped to a 50-dimensional vector.\n",
    "\n",
    "Also reduce dimensionality through NMF (k = 50) and compare with LSI:\n",
    "\n",
    "Which Frobenius norm is larger, the NMF magnitude or the LSI magnitude. Why is this the case?\n",
    "'''"
   ]
  },
  {
   "cell_type": "code",
   "execution_count": 85,
   "metadata": {},
   "outputs": [
    {
     "name": "stdout",
     "output_type": "stream",
     "text": [
      "(4732, 50)\n"
     ]
    }
   ],
   "source": [
    "# LSI: Latent Semantic Indexing (LSI) \n",
    "from sklearn.decomposition import TruncatedSVD, NMF\n",
    "\n",
    "lsi = TruncatedSVD(n_components=50)\n",
    "lsi_X_reduced = lsi.fit_transform(traindata_tfidf) # train_data matrix\n",
    "#lsi_Y_reduced = lsi.transform(Y) # # test_data matrix\n",
    "print(lsi_X_reduced.shape) \n",
    "#print(lsi_Y_reduced.shape) "
   ]
  },
  {
   "cell_type": "code",
   "execution_count": 23,
   "metadata": {},
   "outputs": [],
   "source": [
    "X_train_lsi=lsi.inverse_transform(lsi_X_reduced)"
   ]
  },
  {
   "cell_type": "code",
   "execution_count": 24,
   "metadata": {},
   "outputs": [
    {
     "data": {
      "text/plain": [
       "4106.993564437687"
      ]
     },
     "execution_count": 24,
     "metadata": {},
     "output_type": "execute_result"
    }
   ],
   "source": [
    "# Get Frobenius Norm of Square Difference for LSI\n",
    "\n",
    "np.sum(np.array(traindata_tfidf - X_train_lsi)**2)"
   ]
  },
  {
   "cell_type": "code",
   "execution_count": 25,
   "metadata": {},
   "outputs": [
    {
     "name": "stdout",
     "output_type": "stream",
     "text": [
      "(4732, 50)\n"
     ]
    }
   ],
   "source": [
    "# NMF: Non-negative Matrix Factorization (NMF)\n",
    "nmf = NMF(n_components=50)\n",
    "nmf_X_reduced = nmf.fit_transform(traindata_tfidf)\n",
    "#nmf_Y = nmf.transform(Y)\n",
    "print(nmf_X_reduced.shape)\n",
    "#print(Y.shape)"
   ]
  },
  {
   "cell_type": "code",
   "execution_count": 28,
   "metadata": {},
   "outputs": [
    {
     "data": {
      "text/plain": [
       "4143.667894037169"
      ]
     },
     "execution_count": 28,
     "metadata": {},
     "output_type": "execute_result"
    }
   ],
   "source": [
    "# Get Frobenius Norm of Square Difference for NMF\n",
    "W = nmf_X_reduced\n",
    "H = nmf.components_\n",
    "np.sum(np.array(traindata_tfidf - W.dot(H))**2)"
   ]
  },
  {
   "cell_type": "markdown",
   "metadata": {},
   "source": [
    "**The error for NMF is larger due to additional constraints where W and H need to be non-negative. On the other hand, LSI has less constraints during the dimensionality reduction process.** "
   ]
  },
  {
   "cell_type": "markdown",
   "metadata": {},
   "source": [
    "### Question 4: SVM Classifier"
   ]
  },
  {
   "cell_type": "code",
   "execution_count": 30,
   "metadata": {},
   "outputs": [
    {
     "data": {
      "text/plain": [
       "'\\nQuestion #4: classify the documents into two classes “Computer Technology” vs “Recreational Activity”\\n\\nTrain two linear SVMs and compare\\nUse cross-validation to choose γ (use average validation accuracy to compare)\\n\\n'"
      ]
     },
     "execution_count": 30,
     "metadata": {},
     "output_type": "execute_result"
    }
   ],
   "source": [
    "'''\n",
    "Question #4: classify the documents into two classes “Computer Technology” vs “Recreational Activity”\n",
    "\n",
    "Train two linear SVMs and compare\n",
    "Use cross-validation to choose γ (use average validation accuracy to compare)\n",
    "\n",
    "'''"
   ]
  },
  {
   "attachments": {
    "0e956e39-9e64-4793-b69a-673d34b1330e.png": {
     "image/png": "[encoded data removed]"
    }
   },
   "cell_type": "markdown",
   "metadata": {},
   "source": [
    "![image.png](attachment:0e956e39-9e64-4793-b69a-673d34b1330e.png)"
   ]
  },
  {
   "cell_type": "code",
   "execution_count": 86,
   "metadata": {},
   "outputs": [
    {
     "name": "stdout",
     "output_type": "stream",
     "text": [
      "[0 1 2 3 4 5 6 7]\n",
      "['comp.graphics' 'comp.os.ms-windows.misc' 'comp.sys.ibm.pc.hardware'\n",
      " 'comp.sys.mac.hardware' 'rec.autos' 'rec.motorcycles'\n",
      " 'rec.sport.baseball' 'rec.sport.hockey']\n"
     ]
    }
   ],
   "source": [
    "print(np.unique(train_dataset.target))\n",
    "print(np.unique(train_dataset.target_names))"
   ]
  },
  {
   "cell_type": "code",
   "execution_count": 87,
   "metadata": {},
   "outputs": [
    {
     "name": "stdout",
     "output_type": "stream",
     "text": [
      "[0 1]\n"
     ]
    }
   ],
   "source": [
    "binary_train_target = train_dataset.target\n",
    "binary_test_target = test_dataset.target\n",
    "for i in [0,1,2,3]:\n",
    "    binary_train_target[np.argwhere(train_dataset.target == i)] = 0 #computer technology\n",
    "    binary_test_target[np.argwhere(test_dataset.target == i)] = 0\n",
    "for i in [4,5,6,7]:\n",
    "    binary_train_target[np.argwhere(train_dataset.target == i)] = 1 #recreational activity\n",
    "    binary_test_target[np.argwhere(test_dataset.target == i)] = 1"
   ]
  },
  {
   "cell_type": "code",
   "execution_count": 88,
   "metadata": {},
   "outputs": [
    {
     "name": "stdout",
     "output_type": "stream",
     "text": [
      "[0 1]\n"
     ]
    }
   ],
   "source": [
    "print(np.unique(binary_train_target))\n",
    "print(np.unique(binary_test_target))"
   ]
  },
  {
   "cell_type": "code",
   "execution_count": 100,
   "metadata": {},
   "outputs": [],
   "source": [
    "# train one with hard margin and one with soft marginbinary_train_target\n",
    "from sklearn.svm import LinearSVC\n",
    "\n",
    "clf_hard = LinearSVC(C = 1000).fit(lsi_X_reduced, binary_train_target)\n",
    "clf_soft = LinearSVC(C = 0.0001).fit(lsi_X_reduced, binary_train_target)"
   ]
  },
  {
   "cell_type": "code",
   "execution_count": 101,
   "metadata": {},
   "outputs": [],
   "source": [
    "from sklearn.feature_extraction.text import CountVectorizer\n",
    "from sklearn.feature_extraction.text import TfidfTransformer\n",
    "\n",
    "from sklearn.naive_bayes import MultinomialNB\n",
    "from sklearn.naive_bayes import GaussianNB\n",
    "from sklearn.svm import SVC\n",
    "\n",
    "from sklearn.base import BaseEstimator, TransformerMixin\n",
    "class SparseToDenseArray(BaseEstimator, TransformerMixin):\n",
    "    def __init__(self):\n",
    "        pass\n",
    "\n",
    "    def transform(self, X, *_):\n",
    "        if hasattr(X, 'toarray'):\n",
    "            return X.toarray()\n",
    "        return X\n",
    "\n",
    "    def fit(self, *_):\n",
    "        return self\n",
    "\n",
    "from sklearn.decomposition import NMF\n",
    "\n",
    "# nmf = NMF(n_components=50, init='random', random_state=0)\n",
    "\n",
    "# \"The purpose of the pipeline is to assemble several steps that can \n",
    "#  be cross-validated together while setting different parameters.\"\n",
    "from sklearn.pipeline import Pipeline\n",
    "pipeline_hard = Pipeline([\n",
    "    ('vect', CountVectorizer(stop_words='english', min_df=3, analyzer=stem_rmv_punc)),\n",
    "    ('tfidf', TfidfTransformer()),\n",
    "    ('reduce_dim', TruncatedSVD(n_components=50)),\n",
    "    ('toarr', SparseToDenseArray()),\n",
    "    ('clf', SVC(kernel='linear', C=1000)),\n",
    "])\n",
    "pipeline_soft = Pipeline([\n",
    "    ('vect', CountVectorizer(stop_words='english', min_df=3, analyzer=stem_rmv_punc)),\n",
    "    ('tfidf', TfidfTransformer()),\n",
    "    ('reduce_dim', TruncatedSVD(n_components=50)),\n",
    "    ('toarr', SparseToDenseArray()),\n",
    "    ('clf', SVC(kernel='linear', C=0.0001)),\n",
    "])\n",
    "\n",
    "from sklearn.metrics import confusion_matrix\n",
    "from sklearn.metrics import accuracy_score\n",
    "from sklearn.metrics import precision_score\n",
    "from sklearn.metrics import recall_score\n",
    "from sklearn.metrics import roc_curve\n",
    "from sklearn.metrics import auc\n",
    "import matplotlib.pyplot as plt\n",
    "%matplotlib inline\n"
   ]
  },
  {
   "cell_type": "code",
   "execution_count": 102,
   "metadata": {},
   "outputs": [],
   "source": [
    "def plot_roc(fpr, tpr):\n",
    "    fig, ax = plt.subplots()\n",
    "\n",
    "    roc_auc = auc(fpr,tpr)\n",
    "\n",
    "    ax.plot(fpr, tpr, lw=2, label= 'area under curve = %0.4f' % roc_auc)\n",
    "\n",
    "    ax.grid(color='0.7', linestyle='--', linewidth=1)\n",
    "\n",
    "    ax.set_xlim([-0.1, 1.1])\n",
    "    ax.set_ylim([0.0, 1.05])\n",
    "    ax.set_xlabel('False Positive Rate',fontsize=15)\n",
    "    ax.set_ylabel('True Positive Rate',fontsize=15)\n",
    "\n",
    "    ax.legend(loc=\"lower right\")\n",
    "\n",
    "    for label in ax.get_xticklabels()+ax.get_yticklabels():\n",
    "        label.set_fontsize(15)\n",
    "\n",
    "def fit_predict_and_plot_roc(pipe, train_data, train_label, test_data, test_label):\n",
    "    pipe.fit(train_data, train_label)\n",
    "    # pipeline1.predict(twenty_test.data)\n",
    "\n",
    "    if hasattr(pipe, 'decision_function'):\n",
    "        prob_score = pipe.decision_function(test_data)\n",
    "        fpr, tpr, _ = roc_curve(test_label, prob_score)\n",
    "    else:\n",
    "        prob_score = pipe.predict_proba(test_data)\n",
    "        fpr, tpr, _ = roc_curve(test_label, prob_score[:,1])\n",
    "\n",
    "    plot_roc(fpr, tpr)\n",
    "#     return pipe"
   ]
  },
  {
   "cell_type": "code",
   "execution_count": 104,
   "metadata": {},
   "outputs": [
    {
     "data": {
      "image/png": "[encoded data removed]",
      "text/plain": [
       "<Figure size 432x288 with 1 Axes>"
      ]
     },
     "metadata": {
      "needs_background": "light"
     },
     "output_type": "display_data"
    }
   ],
   "source": [
    "fit_predict_and_plot_roc(pipeline_hard, train_dataset.data, binary_train_target, test_dataset.data, binary_test_target)"
   ]
  },
  {
   "cell_type": "code",
   "execution_count": 105,
   "metadata": {},
   "outputs": [
    {
     "data": {
      "image/png": "[encoded data removed]",
      "text/plain": [
       "<Figure size 432x288 with 1 Axes>"
      ]
     },
     "metadata": {
      "needs_background": "light"
     },
     "output_type": "display_data"
    }
   ],
   "source": [
    "fit_predict_and_plot_roc(pipeline_soft, train_dataset.data, binary_train_target, test_dataset.data, binary_test_target)"
   ]
  },
  {
   "cell_type": "code",
   "execution_count": 109,
   "metadata": {},
   "outputs": [
    {
     "name": "stdout",
     "output_type": "stream",
     "text": [
      "accuracy is: 0.9717460317460317\n",
      "recall is: 0.9786163522012579\n",
      "precision is: 0.9658597144630664\n",
      "f1_score is: 0.9721961886910341\n",
      "confusion matrix is: [[1505   55]\n",
      " [  34 1556]]\n"
     ]
    }
   ],
   "source": [
    "pred_hard = pipeline_hard.predict(test_dataset.data)\n",
    "print('accuracy is:', accuracy_score(binary_test_target, pred_hard))\n",
    "print('recall is:', recall_score(binary_test_target, pred_hard))\n",
    "print('precision is:', precision_score(binary_test_target, pred_hard))\n",
    "print('f1_score is:', f1_score(binary_test_target, pred_hard))"
   ]
  },
  {
   "cell_type": "code",
   "execution_count": 113,
   "metadata": {},
   "outputs": [
    {
     "name": "stdout",
     "output_type": "stream",
     "text": [
      "Confusion matrix, without normalization\n",
      "[[1505   55]\n",
      " [  34 1556]]\n"
     ]
    },
    {
     "data": {
      "text/plain": [
       "<Figure size 432x288 with 0 Axes>"
      ]
     },
     "execution_count": 113,
     "metadata": {},
     "output_type": "execute_result"
    },
    {
     "data": {
      "image/png": "[encoded data removed]",
      "text/plain": [
       "<Figure size 432x288 with 2 Axes>"
      ]
     },
     "metadata": {
      "needs_background": "light"
     },
     "output_type": "display_data"
    },
    {
     "data": {
      "text/plain": [
       "<Figure size 432x288 with 0 Axes>"
      ]
     },
     "metadata": {},
     "output_type": "display_data"
    }
   ],
   "source": [
    "class_names = ['Computer Technology', 'Recreational Activity']\n",
    "cnf_matrix = confusion_matrix(binary_test_target, pred_hard)\n",
    "np.set_printoptions(precision=2)\n",
    "    \n",
    "#plot confusion matrix\n",
    "plt.figure()\n",
    "plot_confusion_matrix(cnf_matrix, classes=class_names, title = 'Confusion Matrix (without normalization)')\n",
    "plt.figure()"
   ]
  },
  {
   "cell_type": "code",
   "execution_count": 115,
   "metadata": {},
   "outputs": [
    {
     "name": "stdout",
     "output_type": "stream",
     "text": [
      "accuracy is: 0.5047619047619047\n",
      "recall is: 1.0\n",
      "precision is: 0.5047619047619047\n",
      "f1_score is: 0.6708860759493671\n"
     ]
    }
   ],
   "source": [
    "pred_soft = pipeline_soft.predict(test_dataset.data)\n",
    "print('accuracy is:', accuracy_score(binary_test_target, pred_soft))\n",
    "print('recall is:', recall_score(binary_test_target, pred_soft))\n",
    "print('precision is:', precision_score(binary_test_target, pred_soft))\n",
    "print('f1_score is:', f1_score(binary_test_target, pred_soft))"
   ]
  },
  {
   "cell_type": "code",
   "execution_count": 114,
   "metadata": {},
   "outputs": [
    {
     "name": "stdout",
     "output_type": "stream",
     "text": [
      "Confusion matrix, without normalization\n",
      "[[   0 1560]\n",
      " [   0 1590]]\n"
     ]
    },
    {
     "data": {
      "text/plain": [
       "<Figure size 432x288 with 0 Axes>"
      ]
     },
     "execution_count": 114,
     "metadata": {},
     "output_type": "execute_result"
    },
    {
     "data": {
      "image/png": "[encoded data removed]",
      "text/plain": [
       "<Figure size 432x288 with 2 Axes>"
      ]
     },
     "metadata": {
      "needs_background": "light"
     },
     "output_type": "display_data"
    },
    {
     "data": {
      "text/plain": [
       "<Figure size 432x288 with 0 Axes>"
      ]
     },
     "metadata": {},
     "output_type": "display_data"
    }
   ],
   "source": [
    "class_names = ['Computer Technology', 'Recreational Activity']\n",
    "cnf_matrix = confusion_matrix(binary_test_target, pred_soft)\n",
    "np.set_printoptions(precision=2)\n",
    "    \n",
    "#plot confusion matrix\n",
    "plt.figure()\n",
    "plot_confusion_matrix(cnf_matrix, classes=class_names, title = 'Confusion Matrix (without normalization)')\n",
    "plt.figure()"
   ]
  },
  {
   "cell_type": "markdown",
   "metadata": {},
   "source": [
    "#### questions: What happens for the soft margin SVM? Why is the case? Does the ROC curve of the soft margin SVM look good? Does this conflict with other metrics?"
   ]
  },
  {
   "cell_type": "code",
   "execution_count": null,
   "metadata": {},
   "outputs": [],
   "source": [
    "from sklearn.model_selection import cross_val_score\n",
    "from sklearn.model_selection import ShuffleSplit\n",
    "from sklearn import metrics\n",
    "from sklearn.svm import LinearSVC, SVC\n",
    "from sklearn import svm\n",
    "from sklearn.model_selection import GridSearchCV\n",
    "\n",
    "parameters = {'C':[10**-3,10**-2,10**-1,10**0,10**1,10**2,10**3]}\n",
    "cvv = svm.SVC(probability = True)\n",
    "svm_cvv_grid = GridSearchCV(cvv, parameters, cv=5)\n",
    "svm_cvv_grid.fit(nmf_X_reduced, binary_train_target)"
   ]
  },
  {
   "cell_type": "code",
   "execution_count": 129,
   "metadata": {},
   "outputs": [
    {
     "data": {
      "text/html": [
       "<div>\n",
       "<style scoped>\n",
       "    .dataframe tbody tr th:only-of-type {\n",
       "        vertical-align: middle;\n",
       "    }\n",
       "\n",
       "    .dataframe tbody tr th {\n",
       "        vertical-align: top;\n",
       "    }\n",
       "\n",
       "    .dataframe thead th {\n",
       "        text-align: right;\n",
       "    }\n",
       "</style>\n",
       "<table border=\"1\" class=\"dataframe\">\n",
       "  <thead>\n",
       "    <tr style=\"text-align: right;\">\n",
       "      <th></th>\n",
       "      <th>mean_fit_time</th>\n",
       "      <th>std_fit_time</th>\n",
       "      <th>mean_score_time</th>\n",
       "      <th>std_score_time</th>\n",
       "      <th>param_C</th>\n",
       "      <th>params</th>\n",
       "      <th>split0_test_score</th>\n",
       "      <th>split1_test_score</th>\n",
       "      <th>split2_test_score</th>\n",
       "      <th>split3_test_score</th>\n",
       "      <th>split4_test_score</th>\n",
       "      <th>mean_test_score</th>\n",
       "      <th>std_test_score</th>\n",
       "      <th>rank_test_score</th>\n",
       "    </tr>\n",
       "  </thead>\n",
       "  <tbody>\n",
       "    <tr>\n",
       "      <th>0</th>\n",
       "      <td>6.504530</td>\n",
       "      <td>0.138613</td>\n",
       "      <td>0.555894</td>\n",
       "      <td>0.068820</td>\n",
       "      <td>0.001</td>\n",
       "      <td>{'C': 0.001}</td>\n",
       "      <td>0.504752</td>\n",
       "      <td>0.504752</td>\n",
       "      <td>0.505285</td>\n",
       "      <td>0.505285</td>\n",
       "      <td>0.504228</td>\n",
       "      <td>0.504861</td>\n",
       "      <td>0.000396</td>\n",
       "      <td>7</td>\n",
       "    </tr>\n",
       "    <tr>\n",
       "      <th>1</th>\n",
       "      <td>7.500808</td>\n",
       "      <td>0.520478</td>\n",
       "      <td>0.626912</td>\n",
       "      <td>0.144796</td>\n",
       "      <td>0.01</td>\n",
       "      <td>{'C': 0.01}</td>\n",
       "      <td>0.836325</td>\n",
       "      <td>0.825766</td>\n",
       "      <td>0.782241</td>\n",
       "      <td>0.793869</td>\n",
       "      <td>0.858351</td>\n",
       "      <td>0.819310</td>\n",
       "      <td>0.027845</td>\n",
       "      <td>6</td>\n",
       "    </tr>\n",
       "    <tr>\n",
       "      <th>2</th>\n",
       "      <td>3.940322</td>\n",
       "      <td>0.279518</td>\n",
       "      <td>0.291414</td>\n",
       "      <td>0.024678</td>\n",
       "      <td>0.1</td>\n",
       "      <td>{'C': 0.1}</td>\n",
       "      <td>0.947202</td>\n",
       "      <td>0.930306</td>\n",
       "      <td>0.933404</td>\n",
       "      <td>0.929175</td>\n",
       "      <td>0.940803</td>\n",
       "      <td>0.936178</td>\n",
       "      <td>0.006843</td>\n",
       "      <td>5</td>\n",
       "    </tr>\n",
       "    <tr>\n",
       "      <th>3</th>\n",
       "      <td>2.084601</td>\n",
       "      <td>0.146638</td>\n",
       "      <td>0.154808</td>\n",
       "      <td>0.037712</td>\n",
       "      <td>1</td>\n",
       "      <td>{'C': 1}</td>\n",
       "      <td>0.961985</td>\n",
       "      <td>0.954593</td>\n",
       "      <td>0.955603</td>\n",
       "      <td>0.948203</td>\n",
       "      <td>0.965116</td>\n",
       "      <td>0.957100</td>\n",
       "      <td>0.005930</td>\n",
       "      <td>3</td>\n",
       "    </tr>\n",
       "    <tr>\n",
       "      <th>4</th>\n",
       "      <td>1.473200</td>\n",
       "      <td>0.124099</td>\n",
       "      <td>0.103800</td>\n",
       "      <td>0.015222</td>\n",
       "      <td>10</td>\n",
       "      <td>{'C': 10}</td>\n",
       "      <td>0.971489</td>\n",
       "      <td>0.958817</td>\n",
       "      <td>0.961945</td>\n",
       "      <td>0.963002</td>\n",
       "      <td>0.972516</td>\n",
       "      <td>0.965554</td>\n",
       "      <td>0.005452</td>\n",
       "      <td>1</td>\n",
       "    </tr>\n",
       "    <tr>\n",
       "      <th>5</th>\n",
       "      <td>1.406701</td>\n",
       "      <td>0.098963</td>\n",
       "      <td>0.075205</td>\n",
       "      <td>0.006679</td>\n",
       "      <td>100</td>\n",
       "      <td>{'C': 100}</td>\n",
       "      <td>0.958817</td>\n",
       "      <td>0.957761</td>\n",
       "      <td>0.952431</td>\n",
       "      <td>0.966173</td>\n",
       "      <td>0.965116</td>\n",
       "      <td>0.960060</td>\n",
       "      <td>0.005059</td>\n",
       "      <td>2</td>\n",
       "    </tr>\n",
       "    <tr>\n",
       "      <th>6</th>\n",
       "      <td>1.761300</td>\n",
       "      <td>0.125696</td>\n",
       "      <td>0.079614</td>\n",
       "      <td>0.007621</td>\n",
       "      <td>1000</td>\n",
       "      <td>{'C': 1000}</td>\n",
       "      <td>0.956705</td>\n",
       "      <td>0.946146</td>\n",
       "      <td>0.937632</td>\n",
       "      <td>0.952431</td>\n",
       "      <td>0.949260</td>\n",
       "      <td>0.948435</td>\n",
       "      <td>0.006434</td>\n",
       "      <td>4</td>\n",
       "    </tr>\n",
       "  </tbody>\n",
       "</table>\n",
       "</div>"
      ],
      "text/plain": [
       "   mean_fit_time  std_fit_time  mean_score_time  std_score_time param_C  \\\n",
       "0       6.504530      0.138613         0.555894        0.068820   0.001   \n",
       "1       7.500808      0.520478         0.626912        0.144796    0.01   \n",
       "2       3.940322      0.279518         0.291414        0.024678     0.1   \n",
       "3       2.084601      0.146638         0.154808        0.037712       1   \n",
       "4       1.473200      0.124099         0.103800        0.015222      10   \n",
       "5       1.406701      0.098963         0.075205        0.006679     100   \n",
       "6       1.761300      0.125696         0.079614        0.007621    1000   \n",
       "\n",
       "         params  split0_test_score  split1_test_score  split2_test_score  \\\n",
       "0  {'C': 0.001}           0.504752           0.504752           0.505285   \n",
       "1   {'C': 0.01}           0.836325           0.825766           0.782241   \n",
       "2    {'C': 0.1}           0.947202           0.930306           0.933404   \n",
       "3      {'C': 1}           0.961985           0.954593           0.955603   \n",
       "4     {'C': 10}           0.971489           0.958817           0.961945   \n",
       "5    {'C': 100}           0.958817           0.957761           0.952431   \n",
       "6   {'C': 1000}           0.956705           0.946146           0.937632   \n",
       "\n",
       "   split3_test_score  split4_test_score  mean_test_score  std_test_score  \\\n",
       "0           0.505285           0.504228         0.504861        0.000396   \n",
       "1           0.793869           0.858351         0.819310        0.027845   \n",
       "2           0.929175           0.940803         0.936178        0.006843   \n",
       "3           0.948203           0.965116         0.957100        0.005930   \n",
       "4           0.963002           0.972516         0.965554        0.005452   \n",
       "5           0.966173           0.965116         0.960060        0.005059   \n",
       "6           0.952431           0.949260         0.948435        0.006434   \n",
       "\n",
       "   rank_test_score  \n",
       "0                7  \n",
       "1                6  \n",
       "2                5  \n",
       "3                3  \n",
       "4                1  \n",
       "5                2  \n",
       "6                4  "
      ]
     },
     "execution_count": 129,
     "metadata": {},
     "output_type": "execute_result"
    }
   ],
   "source": [
    "pd.DataFrame(svm_cvv_grid.cv_results_)"
   ]
  },
  {
   "cell_type": "markdown",
   "metadata": {},
   "source": [
    "### Based on 5-Fold cross validation, C=10 appears to be the best choice for NMF training set."
   ]
  },
  {
   "cell_type": "code",
   "execution_count": null,
   "metadata": {},
   "outputs": [],
   "source": [
    "# Cross Validation: Use a 5-fold cross-validation, find the best value of the parameter\n",
    "\n",
    "from sklearn.model_selection import cross_val_score\n",
    "from sklearn.model_selection import ShuffleSplit\n",
    "from sklearn import metrics\n",
    "from sklearn.svm import SVC\n",
    "\n",
    "SVC(kernel='hinge',C=1)\n",
    "cv = ShuffleSplit(n_splits=5, test_size=0.3, random_state=0)\n",
    "# f1_macro: http://scikit-learn.org/stable/modules/model_evaluation.html#scoring-parameter\n",
    "scores = cross_val_score(clf, W_train, twenty_train.target, cv=cv, scoring='f1_macro')\n",
    "\n",
    "scores"
   ]
  },
  {
   "cell_type": "markdown",
   "metadata": {},
   "source": [
    "## Part 2: Word Embedding"
   ]
  },
  {
   "cell_type": "code",
   "execution_count": 9,
   "metadata": {},
   "outputs": [],
   "source": [
    "import nltk\n",
    "import numpy as np\n",
    "import pandas as pd\n",
    "#from scipy import spatial\n",
    "#import matplotlib.pyplot as plt\n",
    "#import seaborn as sns\n",
    "#from sklearn.manifold import TSNE\n",
    "#from sklearn.preprocessing import StandardScaler\n",
    "#from nltk.corpus import stopwords\n",
    "#import re\n",
    "#import string"
   ]
  },
  {
   "cell_type": "code",
   "execution_count": 7,
   "metadata": {},
   "outputs": [],
   "source": [
    "#Create a key-value dictionary where key is the word and value is the word embedding\n",
    "embeddings_dict = {}\n",
    "dimension_of_glove = 300\n",
    "with open(\"glove.6B.300d.txt\", 'r', encoding=\"utf8\") as f:\n",
    "    for line in f:\n",
    "        values = line.split()\n",
    "        word = values[0]\n",
    "        vector = np.asarray(values[1:], \"float32\")\n",
    "        embeddings_dict[word] = vector"
   ]
  },
  {
   "cell_type": "markdown",
   "metadata": {},
   "source": [
    "##### QUESTION 8: Read the paper about GLoVE embeddings - found here and answer the following subquestions: answered in report\n"
   ]
  },
  {
   "cell_type": "code",
   "execution_count": null,
   "metadata": {},
   "outputs": [],
   "source": [
    "print(embeddings_dict['queen']-embeddings_dict['king']-embeddings_dict['wife']+embeddings_dict['husband'])"
   ]
  },
  {
   "cell_type": "code",
   "execution_count": null,
   "metadata": {},
   "outputs": [],
   "source": [
    "print(embeddings_dict['queen']-embeddings_dict['king'])"
   ]
  },
  {
   "cell_type": "code",
   "execution_count": null,
   "metadata": {},
   "outputs": [],
   "source": [
    "print(embeddings_dict['wife']-embeddings_dict['husband'])"
   ]
  },
  {
   "cell_type": "code",
   "execution_count": 8,
   "metadata": {},
   "outputs": [
    {
     "name": "stdout",
     "output_type": "stream",
     "text": [
      "[-2.7628e-01  1.3999e-01  9.8519e-02 -6.4019e-01  3.1988e-02  1.0066e-01\n",
      " -1.8673e-01 -3.7129e-01  5.9740e-01 -2.0405e+00  2.2368e-01 -2.6314e-02\n",
      "  7.2408e-01 -4.3829e-01  4.8886e-01 -3.5486e-03 -1.0006e-01 -3.0587e-01\n",
      " -1.5621e-01 -6.8136e-02  2.1104e-01  2.9287e-01 -8.8861e-02 -2.0462e-01\n",
      " -5.7602e-01  3.4526e-01  4.1390e-01  1.7917e-01  2.5143e-01 -2.2678e-01\n",
      " -1.0103e-01  1.4576e-01  2.0127e-01  3.1810e-01 -7.8907e-01 -2.2194e-01\n",
      " -2.4833e-01 -1.5103e-02 -2.0050e-01 -2.6441e-02  1.8551e-01  3.3782e-01\n",
      " -3.3543e-01  8.6117e-01 -4.7083e-02 -1.7009e-01  3.0438e-01  9.4119e-02\n",
      "  3.2435e-01 -8.1171e-01  8.8966e-01 -3.9149e-01  1.6828e-01  1.4316e-01\n",
      "  3.6339e-03 -6.4557e-02  4.5777e-02 -3.2248e-01  4.8943e-02  1.6817e-01\n",
      "  6.8344e-02  5.4227e-01  1.2493e-01  6.9742e-01 -3.7194e-02  3.3080e-01\n",
      " -4.2194e-01  3.3970e-01  2.7646e-01 -1.6003e-02 -2.1827e-01  4.4535e-01\n",
      "  3.5379e-01 -2.2089e-02  2.1375e-01  4.3267e-01 -3.2897e-01  9.6165e-02\n",
      "  3.1265e-01 -3.0528e-01  2.6126e-01 -6.5364e-01 -7.8014e-01 -2.3154e-01\n",
      "  1.2113e-01  3.4896e-01 -5.5444e-01  4.6619e-01 -1.6520e-01  1.1611e-01\n",
      " -7.6676e-01  6.9502e-01 -1.5698e-01 -1.2490e-01  5.6505e-01  6.4499e-01\n",
      " -5.7403e-01 -3.3549e-02  3.2898e-01 -1.4025e+00 -3.1143e-01  6.4549e-01\n",
      " -6.1534e-02 -6.9295e-01  6.0894e-04 -5.6544e-01  1.9181e-01 -1.9208e-01\n",
      " -6.2673e-01 -9.7473e-03 -5.5040e-01 -5.6128e-01 -1.9603e-01  2.9254e-01\n",
      "  9.8576e-02 -5.9395e-02  3.3616e-03  1.9515e-01 -6.0703e-01  3.4262e-01\n",
      "  9.5211e-02 -7.9411e-02  1.4305e-01 -5.6569e-01 -6.5887e-02  1.5167e-01\n",
      " -1.3505e-01  1.9571e-01  2.2812e-01  3.5346e-02 -2.2509e-01  1.8910e-01\n",
      " -3.7348e-01  1.2505e-01  4.6249e-01 -3.2219e-01  9.0643e-01  1.1595e-01\n",
      "  1.1628e-01  2.2961e-01  2.4010e-01 -6.1609e-02  3.9325e-01 -6.5066e-02\n",
      "  4.2257e-01  5.6880e-01  4.9804e-01 -6.1308e-01  4.1468e-01 -1.3448e-01\n",
      "  6.0430e-01 -6.5462e-02 -8.5376e-02  1.9115e-01  3.9925e-01  3.7495e-01\n",
      " -1.8492e-01  6.1751e-02 -3.8747e-01 -3.0335e-01 -3.8211e-01  2.8221e-01\n",
      " -1.0286e-01 -5.8660e-01  8.2922e-01  2.5131e-01  2.4772e-01  8.7482e-01\n",
      " -3.1359e-01  8.1621e-01 -9.0081e-01 -7.7933e-01 -1.0090e+00  3.6472e-01\n",
      " -1.1562e-01 -2.4841e-01  9.4527e-02 -4.2266e-01  6.0392e-02 -1.5365e-01\n",
      " -6.9604e-02  5.1292e-03  3.9572e-01 -1.5692e-01  3.5708e-01 -3.5165e-01\n",
      "  3.5296e-01 -5.2220e-01  5.1400e-01 -1.7764e-01 -1.0272e-01 -3.9640e-01\n",
      "  3.0418e-01  7.3659e-02 -1.1685e-01  1.4299e-01 -3.6810e-01  2.7642e-01\n",
      " -4.6683e-01 -3.2633e-01  5.1107e-01  2.3945e-02  1.1723e-01  2.1761e-01\n",
      " -1.7389e-01 -6.1193e-01 -5.9449e-01  4.7749e-01 -5.9008e-01 -3.6092e-01\n",
      " -9.9574e-02 -4.3098e-02 -1.5106e-01 -1.4336e-01 -3.1135e-02  1.7887e-01\n",
      " -6.4221e-01  1.7242e-01  3.3916e-01  8.7181e-01 -7.7230e-01  5.3195e-01\n",
      " -5.2763e-01  1.7510e-01  3.1043e-01 -1.5177e-01 -2.2706e-01  1.0803e-01\n",
      "  4.4919e-01  7.0016e-02  2.0851e-01  2.1517e-01 -6.1712e-01 -9.9970e-02\n",
      "  5.5020e-03  7.6786e-02  2.8046e-01  4.2331e-01 -5.8925e-01  7.0554e-02\n",
      "  3.9923e-01  9.0201e-02  1.7139e-01 -1.7282e-01 -5.3675e-01 -4.6439e-01\n",
      " -5.7850e-01 -6.8311e-01  5.9383e-02  1.2427e-01 -1.4558e-01  5.7687e-01\n",
      " -5.7499e-01 -5.1645e-02  3.8410e-01  1.3047e-01  3.3786e-01  3.3204e-01\n",
      "  4.0119e-01  2.6389e-01 -3.6953e-01 -2.9797e-01 -6.6816e-01 -1.1883e-01\n",
      "  5.0133e-01  2.0603e-01 -3.2558e-01 -1.2242e-01  5.0666e-01  1.6353e-01\n",
      " -1.0672e-01  2.2364e-01  2.3915e-01 -5.5509e-01 -4.8432e-01 -1.2165e-02\n",
      " -1.7992e+00  3.2310e-01 -2.6309e-01 -3.2538e-01 -5.8270e-01  1.5099e-01\n",
      "  3.3838e-01  1.2007e-01  4.1395e-01 -1.5553e-01 -1.9301e-01  5.8860e-02\n",
      " -5.2420e-01 -3.7170e-01  5.6205e-01 -6.5801e-01 -4.9796e-01  2.4347e-01\n",
      "  1.2873e-01  3.3665e-01 -7.2609e-02 -1.5686e-01 -1.4187e-01 -2.6488e-01]\n"
     ]
    }
   ],
   "source": [
    "print(embeddings_dict['computer'])"
   ]
  },
  {
   "cell_type": "markdown",
   "metadata": {},
   "source": [
    "## Feature Engineering: Stemming & Lemmatization"
   ]
  },
  {
   "cell_type": "markdown",
   "metadata": {},
   "source": [
    "##### QUESTION 9: For the binary classification task distinguishing the “Computer Technology” class and “Recreational Activity” class:\n",
    "1. Describe a feature engineering process that uses GLoVE word embeddings to represent each document. \n",
    "2. Select a classifier model, train and evaluate it with your GLoVE-based feature.\n",
    "\n",
    "\n",
    "\n"
   ]
  },
  {
   "cell_type": "markdown",
   "metadata": {},
   "source": [
    "##### QUESTION 10: Plot the relationship between the dimension of the pre-trained GLoVE embedding and the resulting accuracy of the model in the classification task. Describe the observed trend. Is this trend expected? Why or why not?"
   ]
  },
  {
   "cell_type": "markdown",
   "metadata": {},
   "source": [
    "##### QUESTION 11: Compare and contrast the two visualizations. Are there clusters formed in either or both of the plots?"
   ]
  },
  {
   "cell_type": "markdown",
   "metadata": {},
   "source": [
    "### Multiclass Classification"
   ]
  },
  {
   "cell_type": "markdown",
   "metadata": {},
   "source": [
    "##### QUESTION 12: In this part, we aim to learn classifiers on the documents belonging to the classes: comp.sys.ibm.pc.hardware, comp.sys.mac.hardware, misc.forsale, soc.religion.christian\n",
    "\n",
    "Perform Naïve Bayes classification and multiclass SVM classification (with both One VS One and\n",
    "One VS the rest methods described above) and report the confusion matrix and calculate the\n",
    "accuracy, recall, precision and F-1 score of your classifiers.\n"
   ]
  },
  {
   "cell_type": "code",
   "execution_count": null,
   "metadata": {},
   "outputs": [],
   "source": []
  }
 ],
 "metadata": {
  "kernelspec": {
   "display_name": "Python 3",
   "language": "python",
   "name": "python3"
  },
  "language_info": {
   "codemirror_mode": {
    "name": "ipython",
    "version": 3
   },
   "file_extension": ".py",
   "mimetype": "text/x-python",
   "name": "python",
   "nbconvert_exporter": "python",
   "pygments_lexer": "ipython3",
   "version": "3.8.3"
  }
 },
 "nbformat": 4,
 "nbformat_minor": 4
}
